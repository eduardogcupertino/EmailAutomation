{
 "cells": [
  {
   "cell_type": "code",
   "execution_count": 24,
   "metadata": {},
   "outputs": [],
   "source": [
    "import email\n",
    "import imaplib\n",
    "import os"
   ]
  },
  {
   "cell_type": "code",
   "execution_count": 25,
   "metadata": {},
   "outputs": [],
   "source": [
    "EMAIL = 'alfredosalvador2010@gmail.com'\n",
    "PASSWORD = 'Pass@123'\n",
    "SERVER = 'imap.gmail.com'\n",
    "attachment_dir = 'C:/Users/gamac/Desktop/Projects/EmailAutomation/'"
   ]
  },
  {
   "cell_type": "code",
   "execution_count": 26,
   "metadata": {},
   "outputs": [
    {
     "data": {
      "text/plain": [
       "('OK', [b'alfredosalvador2010@gmail.com authenticated (Success)'])"
      ]
     },
     "execution_count": 26,
     "metadata": {},
     "output_type": "execute_result"
    }
   ],
   "source": [
    "#Habilitar Pop3 e IMAP: https://mail.google.com/mail/u/0/#settings/fwdandpop\n",
    "\n",
    "#Permitir aplicações menos seguras:  https://myaccount.google.com/lesssecureapps\n",
    "\n",
    "# abriremos uma conexão com SSL com o servidor de emails\n",
    "# logando e navegando para a inbox\n",
    "mail = imaplib.IMAP4_SSL(SERVER)\n",
    "mail.login(EMAIL, PASSWORD)\n",
    "# selecionamos a caixa de entrada neste caso\n",
    "# mas qualquer outra caixa pode ser selecionada"
   ]
  },
  {
   "cell_type": "code",
   "execution_count": 38,
   "metadata": {},
   "outputs": [
    {
     "name": "stdout",
     "output_type": "stream",
     "text": [
      "Anexo\n",
      "Texto\n",
      "From: Eduardo gama <gama.cuper@live.com>\n",
      "Subject: Teste\n",
      "Content: SW5zdGFsbA0KUElQIGluc3RhbGwgLS11c2VyIDxwYWNrYWdlLW5hbWU+DQoNClVuaW5zdGFsbA0K\n",
      "UElQIHVuaW5zdGFsbCA8cGFja2FnZS1uYW1lPg0KDQpVUEdSQURFDQpQSVAgaW5zdGFsbCAtLXVw\n",
      "Z3JhZGUgLS11c2VyIDxwYWNrYWdlLW5hbWU+\n",
      "\n",
      "#####################################################################\n"
     ]
    }
   ],
   "source": [
    "def get_attachments(msg):\n",
    "    for part in msg.walk():\n",
    "        fileName = part.get_filename()\n",
    "        \n",
    "        if bool(fileName):\n",
    "            filePath = os.path.join(attachment_dir, fileName)\n",
    "            with open(filePath, 'wb') as f:\n",
    "                f.write(part.get_payload(decode=True))\n",
    "\n",
    "\n",
    "# selecionamos a caixa de entrada neste caso\n",
    "# mas qualquer outra caixa pode ser selecionada\n",
    "mail.select('inbox')\n",
    "\n",
    "# faremos uma busca com o critério ALL para pegar\n",
    "# todos os emails da inbox, esta busca retorna\n",
    "# o status da operação e uma lista com\n",
    "# os ids dos emails\n",
    "\n",
    "#status, data = mail.search(None, 'ALL')\n",
    "status, data = mail.search(None, '(UNSEEN)')\n",
    "\n",
    "# data é uma lista com ids em blocos de bytes separados\n",
    "# por espaço neste formato: [b'1 2 3', b'4 5 6']\n",
    "# então para separar os ids primeiramente criaremos\n",
    "# uma lista vazia\n",
    "mail_ids = []\n",
    "# e em seguida iteramos pelo data separando os blocos\n",
    "# de bytes e concatenando a lista resultante com nossa\n",
    "# lista inicial\n",
    "for block in data:\n",
    "    # a função split chamada sem nenhum parâmetro\n",
    "    # transforma texto ou bytes em listas usando como\n",
    "    # ponto de divisão o espaço em branco:\n",
    "    # b'1 2 3'.split() => [b'1', b'2', b'3']\n",
    "    mail_ids += block.split()\n",
    "\n",
    "# agora para cada id baixaremos o email\n",
    "# e extrairemos seu conteúdo\n",
    "for i in mail_ids:\n",
    "    # a função fetch baixa o email passando id e o formato\n",
    "    # em que você deseja que a mensagem venha\n",
    "    status, data = mail.fetch(i, '(RFC822)')\n",
    "\n",
    "    # data no formato '(RFC822)' vem em uma lista com a\n",
    "    # tupla onde o conteúdo está e o byte de fechamento b')'\n",
    "    # por isso vamos iterar pelo data extraindo a tupla\n",
    "    for response_part in data:\n",
    "        # se for a tupla a extraímos o conteúdo\n",
    "        if isinstance(response_part, tuple):\n",
    "            # o primeiro elemento da tupla é o cabeçalho\n",
    "            # de formatação e o segundo elemento possuí o\n",
    "            # conteúdo que queremos extrair\n",
    "            message = email.message_from_bytes(response_part[1])\n",
    "\n",
    "            # com o resultado conseguimos pegar as\n",
    "            # informações de quem enviou o email e o assunto\n",
    "            mail_from = message['from']\n",
    "            mail_subject = message['subject']\n",
    "\n",
    "            # agora para o texto do email precisamos de um\n",
    "            # pouco mais de trabalho pois ele pode vir em texto puro\n",
    "            # ou em multipart, se for texto puro é só ir para o\n",
    "            # else e extraí-lo do payload, caso contrário temos que\n",
    "            # separar o que é anexo e extrair somente o texto\n",
    "            if message.is_multipart():\n",
    "                mail_content = ''                                                                \n",
    "                \n",
    "                # no caso do multipart vem junto com o email\n",
    "                # anexos e outras versões do mesmo email em\n",
    "                # diferentes formatos como texto imagem e html\n",
    "                # para isso vamos andar pelo payload do email\n",
    "                for part in message.get_payload():\n",
    "                    \n",
    "                    # Se tiver anexo extrai\n",
    "                    if part.get_content_type() == 'multipart/alternative':\n",
    "                        print(\"Anexo\")\n",
    "                        get_attachments(message)                    \n",
    "                    # se o conteúdo for texto text/plain que é o\n",
    "                    # texto puro nós extraímos                                        \n",
    "                    if part.get_content_type() == 'text/plain':\n",
    "                        print(\"Texto\")\n",
    "                        mail_content += part.get_payload()\n",
    "            else:\n",
    "                print(\"Texto2\")\n",
    "                mail_content = message.get_payload()\n",
    "\n",
    "            # por fim vamos mostrar na tela o resultado da extração\n",
    "            print(f'From: {mail_from}')\n",
    "            print(f'Subject: {mail_subject}')\n",
    "            print(f'Content: {mail_content}')\n",
    "            print('#####################################################################')"
   ]
  },
  {
   "cell_type": "code",
   "execution_count": null,
   "metadata": {},
   "outputs": [],
   "source": []
  }
 ],
 "metadata": {
  "kernelspec": {
   "display_name": "Python 3",
   "language": "python",
   "name": "python3"
  },
  "language_info": {
   "codemirror_mode": {
    "name": "ipython",
    "version": 3
   },
   "file_extension": ".py",
   "mimetype": "text/x-python",
   "name": "python",
   "nbconvert_exporter": "python",
   "pygments_lexer": "ipython3",
   "version": "3.7.6"
  }
 },
 "nbformat": 4,
 "nbformat_minor": 4
}
